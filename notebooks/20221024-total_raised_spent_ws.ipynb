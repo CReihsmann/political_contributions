{
 "cells": [
  {
   "cell_type": "code",
   "execution_count": 82,
   "id": "61a29277",
   "metadata": {},
   "outputs": [],
   "source": [
    "import requests\n",
    "from bs4 import BeautifulSoup as BS\n",
    "import pandas as pd\n",
    "import re"
   ]
  },
  {
   "cell_type": "code",
   "execution_count": 3,
   "id": "ddd1e72d",
   "metadata": {},
   "outputs": [
    {
     "data": {
      "text/plain": [
       "requests.models.Response"
      ]
     },
     "execution_count": 3,
     "metadata": {},
     "output_type": "execute_result"
    }
   ],
   "source": [
    "URL = 'https://www.opensecrets.org/races/summary?cycle=2020&id=TN02&spec=N'\n",
    "\n",
    "response = requests.get(URL)"
   ]
  },
  {
   "cell_type": "code",
   "execution_count": 37,
   "id": "6c16f11e",
   "metadata": {
    "scrolled": true
   },
   "outputs": [],
   "source": [
    "soup = BS(response.text)"
   ]
  },
  {
   "cell_type": "code",
   "execution_count": 69,
   "id": "3b8841fe",
   "metadata": {},
   "outputs": [],
   "source": [
    "raw_title = soup.find('title')\n",
    "title = raw_title.get_text()\n",
    "# title_split = title.split(' ')\n",
    "\n",
    "state = re.findall(r\"([A-Za-z]+|[A-Za-z]+\\s[A-Za-z]+)\\s\\District\\s\\d+\", title)[0]\n",
    "district = int(re.findall(r\"\\s(\\d{2})\\s\", title)[0])"
   ]
  },
  {
   "cell_type": "code",
   "execution_count": 139,
   "id": "d8ce2816",
   "metadata": {},
   "outputs": [
    {
     "data": {
      "text/plain": [
       "2"
      ]
     },
     "execution_count": 139,
     "metadata": {},
     "output_type": "execute_result"
    }
   ],
   "source": [
    "# title_2 = 'Rhode Island District 02 2020 Race • OpenSecrets'\n",
    "\n",
    "int(re.findall(r\"\\s(\\d{2})\\s\", title)[0])"
   ]
  },
  {
   "cell_type": "code",
   "execution_count": 36,
   "id": "34c73ba0",
   "metadata": {},
   "outputs": [
    {
     "data": {
      "text/plain": [
       "<table class=\"DataTable\">\n",
       "<thead>\n",
       "<tr>\n",
       "<th>Candidate</th>\n",
       "<th class=\"number\">Raised</th>\n",
       "<th class=\"number\">Spent</th>\n",
       "<th class=\"number\">Cash on Hand</th>\n",
       "<th>Last Report</th>\n",
       "</tr>\n",
       "</thead>\n",
       "<tbody>\n",
       "<tr>\n",
       "<td class=\"races-category red\" nowrap=\"\">\n",
       "<a href=\"/members-of-congress/tim-burchett/summary?cid=N00041594\">Tim Burchett (R)</a>\n",
       " • <i>Incumbent</i> • <span class=\"winner\"><i>Winner</i></span> </td>\n",
       "<td class=\"number\">$1,336,276</td>\n",
       "<td class=\"number\">$878,488</td>\n",
       "<td class=\"number\">$593,678</td>\n",
       "<td>12/31/2020</td>\n",
       "</tr>\n",
       "<tr>\n",
       "<td class=\"races-category blue\" nowrap=\"\">\n",
       "\t\t\t\t\t\t\t\tRenee Hoyos (D)\n",
       "\t\t\t\t\t\t</td>\n",
       "<td class=\"number\">$812,784</td>\n",
       "<td class=\"number\">$816,793</td>\n",
       "<td class=\"number\">$210</td>\n",
       "<td>12/31/2020</td>\n",
       "</tr>\n",
       "</tbody>\n",
       "</table>"
      ]
     },
     "execution_count": 36,
     "metadata": {},
     "output_type": "execute_result"
    }
   ],
   "source": [
    "soup.findAll('table')[0]"
   ]
  }
 ],
 "metadata": {
  "kernelspec": {
   "display_name": "Python 3 (ipykernel)",
   "language": "python",
   "name": "python3"
  },
  "language_info": {
   "codemirror_mode": {
    "name": "ipython",
    "version": 3
   },
   "file_extension": ".py",
   "mimetype": "text/x-python",
   "name": "python",
   "nbconvert_exporter": "python",
   "pygments_lexer": "ipython3",
   "version": "3.10.3"
  }
 },
 "nbformat": 4,
 "nbformat_minor": 5
}
